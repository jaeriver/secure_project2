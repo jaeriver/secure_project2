{
 "cells": [
  {
   "cell_type": "code",
   "execution_count": null,
   "id": "00049cdd",
   "metadata": {},
   "outputs": [],
   "source": [
    "import numpy as np\n",
    "import pandas as pd\n",
    "\n",
    "result_df = pd.read_csv(\"./isolation_result.csv\")\n",
    "one_class_svm_df = pd.read_csv(\"./one_class_svm_result.csv\")\n",
    "dbscan_df = pd.read_csv(\"./dbscan_result.csv\")"
   ]
  },
  {
   "cell_type": "code",
   "execution_count": null,
   "id": "2834060a",
   "metadata": {},
   "outputs": [],
   "source": [
    "result_df['one_class_svm_y_pred'] = one_class_svm_df[['one_class_svm_y_pred']]\n",
    "result_df['dbscan_y_pred'] = dbscan_df[['dbscan_y_pred']]"
   ]
  },
  {
   "cell_type": "code",
   "execution_count": null,
   "id": "845d3de8",
   "metadata": {},
   "outputs": [],
   "source": [
    "and_ensemble_y_pred = []\n",
    "or_ensemble_y_pred = []\n",
    "\n",
    "for i in range(len(result_df)):\n",
    "    \n",
    "    if (result.loc[i,'isolation_forest_y_pred'] && result.loc[i,'one_class_svm_y_pred'] && result.loc[i,'dbscan_y_pred']):\n",
    "        and_ensemble_y_pred.append(-1)\n",
    "        or_ensemble_y_pred.append(-1)\n",
    "    elif (result.loc[i,'isolation_forest_y_pred'] || result.loc[i,'one_class_svm_y_pred'] || result.loc[i,'dbscan_y_pred']):\n",
    "        and_ensemble_y_pred.append(1)\n",
    "        or_ensemble_y_pred.append(-1)\n",
    "    else:\n",
    "        and_ensemble_y_pred.append(1)\n",
    "        or_ensemble_y_pred.append(1)\n",
    "\n",
    "result_df['and_ensemble_y_pred'] = and_ensemble_y_pred\n",
    "result_df['or_ensemble_y_pred'] = or_ensemble_y_pred\n",
    "result_df\n",
    "        "
   ]
  },
  {
   "cell_type": "code",
   "execution_count": null,
   "id": "1944128b",
   "metadata": {},
   "outputs": [],
   "source": []
  },
  {
   "cell_type": "code",
   "execution_count": null,
   "id": "c9ed0bf8",
   "metadata": {},
   "outputs": [],
   "source": []
  },
  {
   "cell_type": "code",
   "execution_count": null,
   "id": "1b4c5b78",
   "metadata": {},
   "outputs": [],
   "source": []
  }
 ],
 "metadata": {
  "kernelspec": {
   "display_name": "Python 3 (ipykernel)",
   "language": "python",
   "name": "python3"
  },
  "language_info": {
   "codemirror_mode": {
    "name": "ipython",
    "version": 3
   },
   "file_extension": ".py",
   "mimetype": "text/x-python",
   "name": "python",
   "nbconvert_exporter": "python",
   "pygments_lexer": "ipython3",
   "version": "3.9.5"
  }
 },
 "nbformat": 4,
 "nbformat_minor": 5
}
