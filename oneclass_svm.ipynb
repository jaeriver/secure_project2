{
  "nbformat": 4,
  "nbformat_minor": 0,
  "metadata": {
    "colab": {
      "name": "oneclass_svm.ipynb",
      "provenance": [],
      "collapsed_sections": [],
      "authorship_tag": "ABX9TyNFlbHyNqTv11MmjOdgOJgf",
      "include_colab_link": true
    },
    "kernelspec": {
      "name": "python3",
      "display_name": "Python 3"
    },
    "language_info": {
      "name": "python"
    }
  },
  "cells": [
    {
      "cell_type": "markdown",
      "metadata": {
        "id": "view-in-github",
        "colab_type": "text"
      },
      "source": [
        "<a href=\"https://colab.research.google.com/github/manchann/secure_project2/blob/main/oneclass_svm.ipynb\" target=\"_parent\"><img src=\"https://colab.research.google.com/assets/colab-badge.svg\" alt=\"Open In Colab\"/></a>"
      ]
    },
    {
      "cell_type": "code",
      "metadata": {
        "id": "BCpd-zRodJ9m"
      },
      "source": [
        "from sklearn.svm import OneClassSVM\n",
        "X = [[0], [0.44], [0.45], [0.46], [1]]\n",
        "clf = OneClassSVM(gamma='auto').fit(X)\n",
        "clf.predict(X)\n",
        "\n",
        "clf.score_samples(X)\n"
      ],
      "execution_count": null,
      "outputs": []
    }
  ]
}