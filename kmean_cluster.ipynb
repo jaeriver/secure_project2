{
  "nbformat": 4,
  "nbformat_minor": 0,
  "metadata": {
    "colab": {
      "name": "kmean_cluster.ipynb",
      "provenance": [],
      "collapsed_sections": [],
      "authorship_tag": "ABX9TyNlWyuH93A8SYjS78X2MoVe",
      "include_colab_link": true
    },
    "kernelspec": {
      "name": "python3",
      "display_name": "Python 3"
    },
    "language_info": {
      "name": "python"
    }
  },
  "cells": [
    {
      "cell_type": "markdown",
      "metadata": {
        "id": "view-in-github",
        "colab_type": "text"
      },
      "source": [
        "<a href=\"https://colab.research.google.com/github/manchann/secure_project2/blob/main/kmean_cluster.ipynb\" target=\"_parent\"><img src=\"https://colab.research.google.com/assets/colab-badge.svg\" alt=\"Open In Colab\"/></a>"
      ]
    },
    {
      "cell_type": "code",
      "metadata": {
        "id": "28JpK1A8c7sq",
        "colab": {
          "base_uri": "https://localhost:8080/"
        },
        "outputId": "14b2bf80-cbfe-4f88-9bb1-b134e36c2531"
      },
      "source": [
        "import pandas as pd\n",
        "from google.colab import drive\n",
        "drive.mount('/content/drive')\n",
        "dataset = pd.read_csv('/content/drive/MyDrive/BigData/04_hashed.csv')\n"
      ],
      "execution_count": null,
      "outputs": [
        {
          "output_type": "stream",
          "name": "stdout",
          "text": [
            "Mounted at /content/drive\n"
          ]
        }
      ]
    },
    {
      "cell_type": "code",
      "metadata": {
        "id": "e8Ve58Zke2AQ"
      },
      "source": [
        "dataset_split = dataset"
      ],
      "execution_count": 31,
      "outputs": []
    },
    {
      "cell_type": "code",
      "metadata": {
        "id": "FFVJ4j4zg5LG"
      },
      "source": [
        "# IPv4 전처리\n",
        "def transform_ip(ip): \n",
        "  groups = ip.split(\".\") \n",
        "  equalize_group_length = \"\".join( map( lambda group: group.zfill(3), groups )) \n",
        "  return equalize_group_length \n",
        "\n",
        "from sklearn.preprocessing import LabelEncoder\n",
        "\n",
        "# Feature 전처리\n",
        "def preprocess_df(df):\n",
        "  \n",
        "  # IPv4 전처리\n",
        "  df['src_ip'] = df.src_ip.apply(lambda ip : transform_ip(ip))\n",
        "  df['dst_ip'] = df.dst_ip.apply(lambda ip : transform_ip(ip))\n",
        "\n",
        "  # country 전처리\n",
        "  label_encoder = LabelEncoder()\n",
        "  df['src_country'] = label_encoder.fit_transform(df['src_country'])\n",
        "  df['dst_country'] = label_encoder.fit_transform(df['dst_country'])\n",
        "\n",
        "  return df"
      ],
      "execution_count": 32,
      "outputs": []
    },
    {
      "cell_type": "code",
      "metadata": {
        "id": "CRXS-dymg4sn"
      },
      "source": [
        "dataset_ip = preprocess_df(dataset_split)"
      ],
      "execution_count": 33,
      "outputs": []
    },
    {
      "cell_type": "code",
      "metadata": {
        "id": "EoQQYlCTjZS4"
      },
      "source": [
        "import numpy as np\n",
        "arr = np.array(dataset_ip)\n",
        "dataset_ip = pd.DataFrame(arr,columns=dataset_ip.columns)\n"
      ],
      "execution_count": 34,
      "outputs": []
    },
    {
      "cell_type": "code",
      "metadata": {
        "colab": {
          "base_uri": "https://localhost:8080/",
          "height": 204
        },
        "id": "1VyGSEV2jZQW",
        "outputId": "694ebcb4-747d-48fa-f96e-62c12a50cdd0"
      },
      "source": [
        "from sklearn.preprocessing import LabelEncoder\n",
        "job_encode = LabelEncoder()\n",
        "dataset_ip['src_country'] = job_encode.fit_transform(dataset_ip['src_country'])\n",
        "dataset_ip['dst_country'] = job_encode.fit_transform(dataset_ip['dst_country'])\n",
        "dataset_ip.tail()"
      ],
      "execution_count": 35,
      "outputs": [
        {
          "output_type": "execute_result",
          "data": {
            "text/html": [
              "<div>\n",
              "<style scoped>\n",
              "    .dataframe tbody tr th:only-of-type {\n",
              "        vertical-align: middle;\n",
              "    }\n",
              "\n",
              "    .dataframe tbody tr th {\n",
              "        vertical-align: top;\n",
              "    }\n",
              "\n",
              "    .dataframe thead th {\n",
              "        text-align: right;\n",
              "    }\n",
              "</style>\n",
              "<table border=\"1\" class=\"dataframe\">\n",
              "  <thead>\n",
              "    <tr style=\"text-align: right;\">\n",
              "      <th></th>\n",
              "      <th>Rdate</th>\n",
              "      <th>src_ip</th>\n",
              "      <th>dst_ip</th>\n",
              "      <th>Proto</th>\n",
              "      <th>src_port</th>\n",
              "      <th>dst_port</th>\n",
              "      <th>Action</th>\n",
              "      <th>src_country</th>\n",
              "      <th>dst_country</th>\n",
              "    </tr>\n",
              "  </thead>\n",
              "  <tbody>\n",
              "    <tr>\n",
              "      <th>5820305</th>\n",
              "      <td>2.02104e+13</td>\n",
              "      <td>012150252150</td>\n",
              "      <td>102116052100</td>\n",
              "      <td>6</td>\n",
              "      <td>64259</td>\n",
              "      <td>445</td>\n",
              "      <td>2</td>\n",
              "      <td>121</td>\n",
              "      <td>224</td>\n",
              "    </tr>\n",
              "    <tr>\n",
              "      <th>5820306</th>\n",
              "      <td>2.02104e+13</td>\n",
              "      <td>012150252150</td>\n",
              "      <td>167212157124</td>\n",
              "      <td>6</td>\n",
              "      <td>64261</td>\n",
              "      <td>445</td>\n",
              "      <td>2</td>\n",
              "      <td>121</td>\n",
              "      <td>46</td>\n",
              "    </tr>\n",
              "    <tr>\n",
              "      <th>5820307</th>\n",
              "      <td>2.02104e+13</td>\n",
              "      <td>145217002097</td>\n",
              "      <td>072192214054</td>\n",
              "      <td>6</td>\n",
              "      <td>25646</td>\n",
              "      <td>23</td>\n",
              "      <td>2</td>\n",
              "      <td>47</td>\n",
              "      <td>116</td>\n",
              "    </tr>\n",
              "    <tr>\n",
              "      <th>5820308</th>\n",
              "      <td>2.02104e+13</td>\n",
              "      <td>154058159164</td>\n",
              "      <td>185151199060</td>\n",
              "      <td>6</td>\n",
              "      <td>54633</td>\n",
              "      <td>445</td>\n",
              "      <td>2</td>\n",
              "      <td>121</td>\n",
              "      <td>159</td>\n",
              "    </tr>\n",
              "    <tr>\n",
              "      <th>5820309</th>\n",
              "      <td>2.02104e+13</td>\n",
              "      <td>154058159020</td>\n",
              "      <td>180130243165</td>\n",
              "      <td>6</td>\n",
              "      <td>53644</td>\n",
              "      <td>445</td>\n",
              "      <td>2</td>\n",
              "      <td>121</td>\n",
              "      <td>47</td>\n",
              "    </tr>\n",
              "  </tbody>\n",
              "</table>\n",
              "</div>"
            ],
            "text/plain": [
              "               Rdate        src_ip  ... src_country dst_country\n",
              "5820305  2.02104e+13  012150252150  ...         121         224\n",
              "5820306  2.02104e+13  012150252150  ...         121          46\n",
              "5820307  2.02104e+13  145217002097  ...          47         116\n",
              "5820308  2.02104e+13  154058159164  ...         121         159\n",
              "5820309  2.02104e+13  154058159020  ...         121          47\n",
              "\n",
              "[5 rows x 9 columns]"
            ]
          },
          "metadata": {},
          "execution_count": 35
        }
      ]
    },
    {
      "cell_type": "code",
      "metadata": {
        "colab": {
          "base_uri": "https://localhost:8080/"
        },
        "id": "rjMhk1MhjZN6",
        "outputId": "254de464-5ad2-4115-8de0-33f8984d5beb"
      },
      "source": [
        "from sklearn.cluster import KMeans\n",
        "import numpy as np\n",
        "X = dataset_ip\n",
        "kmeans = KMeans(n_clusters=2, random_state=0).fit(X)\n",
        "kmeans.labels_\n",
        "print(kmeans)"
      ],
      "execution_count": 36,
      "outputs": [
        {
          "output_type": "stream",
          "name": "stdout",
          "text": [
            "KMeans(n_clusters=2, random_state=0)\n"
          ]
        }
      ]
    },
    {
      "cell_type": "code",
      "metadata": {
        "colab": {
          "base_uri": "https://localhost:8080/"
        },
        "id": "GqXqSsUZg5CO",
        "outputId": "6c1ac621-15da-4021-ea64-11f14813399f"
      },
      "source": [
        "y_km = kmeans.predict(X)\n",
        "\n",
        "kmeans.cluster_centers_"
      ],
      "execution_count": 37,
      "outputs": [
        {
          "output_type": "execute_result",
          "data": {
            "text/plain": [
              "array([[2.02104106e+13, 2.08234731e+11, 1.60814231e+11, 1.23696115e+01,\n",
              "        5.02390635e+04, 9.08488212e+02, 1.39857263e+00, 1.20546508e+02,\n",
              "        1.26871109e+02],\n",
              "       [2.02104106e+13, 1.00655507e+11, 9.54822911e+10, 8.83029132e+00,\n",
              "        5.01666084e+04, 2.82986305e+03, 1.71641245e+00, 1.11312724e+02,\n",
              "        1.54176422e+02]])"
            ]
          },
          "metadata": {},
          "execution_count": 37
        }
      ]
    },
    {
      "cell_type": "code",
      "metadata": {
        "colab": {
          "base_uri": "https://localhost:8080/",
          "height": 517
        },
        "id": "ejYxYtd5jZLD",
        "outputId": "20e2cc40-8335-42f0-bc8c-25534bcd632b"
      },
      "source": [
        "from sklearn import datasets\n",
        "import matplotlib.pyplot as plt\n",
        "import pandas as pd\n",
        "from sklearn.cluster import KMeans\n",
        "\n",
        "dataset_ip['label'] = kmeans.labels_\n",
        "\n",
        "print(dataset_ip)\n",
        "\n",
        "\n",
        "plt.scatter(\n",
        "    dataset_ip['Rdate'], dataset_ip['dst_country'],\n",
        "    s=50, c=dataset_ip['label'],\n",
        "    marker='s', edgecolor='black',\n",
        "    label='cluster 1'\n",
        ")\n",
        "\n",
        "plt.legend(scatterpoints=1)\n",
        "plt.grid()\n",
        "plt.show()\n",
        "\n",
        "\n",
        "# new_labels = kmeans.labels_\n",
        "\n",
        "# Plot the identified clusters and compare with the answers\n",
        "# plt.scatter(X[:, 0], X[:, 1], c=new_labels, s=150)"
      ],
      "execution_count": 40,
      "outputs": [
        {
          "output_type": "stream",
          "name": "stdout",
          "text": [
            "               Rdate        src_ip  ... dst_country label\n",
            "0        2.02104e+13  154058159102  ...         224     1\n",
            "1        2.02104e+13  154058159020  ...          54     1\n",
            "2        2.02104e+13  154058159164  ...         224     1\n",
            "3        2.02104e+13  154058159165  ...         224     0\n",
            "4        2.02104e+13  154058159102  ...         224     1\n",
            "...              ...           ...  ...         ...   ...\n",
            "5820305  2.02104e+13  012150252150  ...         224     1\n",
            "5820306  2.02104e+13  012150252150  ...          46     1\n",
            "5820307  2.02104e+13  145217002097  ...         116     1\n",
            "5820308  2.02104e+13  154058159164  ...         159     0\n",
            "5820309  2.02104e+13  154058159020  ...          47     0\n",
            "\n",
            "[5820310 rows x 10 columns]\n"
          ]
        },
        {
          "output_type": "display_data",
          "data": {
            "image/png": "[encoded data removed]",
            "text/plain": [
              "<Figure size 432x288 with 1 Axes>"
            ]
          },
          "metadata": {
            "needs_background": "light"
          }
        }
      ]
    },
    {
      "cell_type": "code",
      "metadata": {
        "id": "y4vBZvnoja-6"
      },
      "source": [
        ""
      ],
      "execution_count": null,
      "outputs": []
    },
    {
      "cell_type": "code",
      "metadata": {
        "id": "sFLsd72PjZES"
      },
      "source": [
        ""
      ],
      "execution_count": null,
      "outputs": []
    },
    {
      "cell_type": "code",
      "metadata": {
        "id": "7i63q8TcjY5F"
      },
      "source": [
        ""
      ],
      "execution_count": null,
      "outputs": []
    }
  ]
}