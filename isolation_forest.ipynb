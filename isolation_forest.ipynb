{
 "cells": [
  {
   "cell_type": "code",
   "execution_count": null,
   "id": "2d09802a",
   "metadata": {},
   "outputs": [],
   "source": [
    "import pandas as pd\n",
    "import numpy as np\n",
    "from sklearn.preprocessing import LabelEncoder\n",
    "from sklearn.ensemble import IsolationForest\n",
    "import matplotlib.pyplot as plt\n",
    "from pandas.plotting import scatter_matrix\n",
    "\n",
    "# 원본 데이터 로드\n",
    "origin_df = pd.read_csv(\"./04_hashed.csv\")"
   ]
  },
  {
   "cell_type": "code",
   "execution_count": null,
   "id": "df23eb52",
   "metadata": {},
   "outputs": [],
   "source": [
    "# IP 전처리\n",
    "def transform_ip(ip): \n",
    "    groups = ip.split(\".\") \n",
    "    equalize_group_length = \"\".join( map( lambda group: group.zfill(3), groups )) \n",
    "    return equalize_group_length \n",
    "\n",
    "# Feature 전처리\n",
    "def preprocess(df):\n",
    "      \n",
    "    # IP 전처리\n",
    "    df['src_ip'] = df.src_ip.apply(lambda ip : transform_ip(ip))\n",
    "    df['dst_ip'] = df.dst_ip.apply(lambda ip : transform_ip(ip))\n",
    "\n",
    "    # country 전처리\n",
    "    label_encoder = LabelEncoder()\n",
    "    df['src_country'] = label_encoder.fit_transform(df['src_country'])\n",
    "    df['dst_country'] = label_encoder.fit_transform(df['dst_country'])\n",
    "    \n",
    "    return df"
   ]
  },
  {
   "cell_type": "code",
   "execution_count": null,
   "id": "546899f3",
   "metadata": {},
   "outputs": [],
   "source": [
    "# 모델 학습 및 추론\n",
    "def model(input_df, model_name):\n",
    "    # Rdate를 제외한 Feature 선택\n",
    "    feature_preprocess_df = input_df[[\"src_ip\", \"dst_ip\", \"Proto\", \"src_port\", \"dst_port\", \"Action\", \"src_country\", \"dst_country\"]]\n",
    "    # Isolation Forest 모델 선언 및 학습\n",
    "    model = IsolationForest(n_estimators=100, \n",
    "                            max_samples='auto',\n",
    "                            n_jobs=-1,\n",
    "                            max_features=8,\n",
    "                            contamination='auto')\n",
    "    model.fit(feature_preprocess_df)\n",
    "\n",
    "    # 예측값 생성\n",
    "    y_pred = model.predict(feature_preprocess_df)\n",
    "    \n",
    "    # 예측값 DataFrame화\n",
    "    y_pred_df = pd.DataFrame(y_pred, columns=[f'{model_name}_y_pred'], index=feature_preprocess_df.index)\n",
    "    # Feature 데이터와 예측값 concat\n",
    "    result_df = pd.concat([feature_preprocess_df,y_pred_df],axis=1)\n",
    "    return result_df, feature_preprocess_df, y_pred"
   ]
  },
  {
   "cell_type": "code",
   "execution_count": null,
   "id": "363fb531",
   "metadata": {},
   "outputs": [],
   "source": [
    "# Rdate를 제외한 나머지 Feature Scaling\n",
    "preprocess_df = preprocess(origin_df.astype(str))\n",
    "\n",
    "# Rdate 종류\n",
    "unique_time = preprocess_df['Rdate'].unique()\n",
    "\n",
    "preprocess_df"
   ]
  },
  {
   "cell_type": "code",
   "execution_count": null,
   "id": "b426242d",
   "metadata": {
    "scrolled": false
   },
   "outputs": [],
   "source": [
    "# window size 선언\n",
    "window_size = 240\n",
    "\n",
    "# 전체 데이터 탐지 결과\n",
    "total_result_df = pd.DataFrame()\n",
    "\n",
    "count = 0\n",
    "model_name = 'isolation_forest'\n",
    "\n",
    "for i in range(int((len(unique_time) / window_size)) + 1):\n",
    "    # window df 생성\n",
    "    window_df = pd.DataFrame()\n",
    "    # window size 만큼 Rdate 탐색\n",
    "    try:\n",
    "        for j in range(window_size):\n",
    "            # 전체 데이터를 순서대로 확인하며, Rdate 종류에 해당하는 데이터를 추출해 window df에 추가\n",
    "            select_time = preprocess_df[preprocess_df['Rdate']==unique_time[i*window_size+j]]\n",
    "            window_df = pd.concat([window_df,select_time])\n",
    "    except:\n",
    "        pass\n",
    "    # 모델 실행\n",
    "    result_df, feature_df, y_pred = model(window_df, model_name)\n",
    "    total_result_df = pd.concat([total_result_df, result_df])\n",
    "    scatter_matrix(feature_df.astype(int),\n",
    "                c = y_pred,\n",
    "                alpha=0.5,\n",
    "                figsize=(20, 20),\n",
    "                diagonal='kde')\n",
    "    \n",
    "    plt.show()\n",
    "    \n",
    "    count += window_size\n",
    "    print(\" @@@@@@@@@@@@@@@@@@@@ %d 개 Rdate 중, %d 개 확인 완료 @@@@@@@@@@@@@@@@@@@@ \" % (len(unique_time), count))\n",
    "\n",
    "    "
   ]
  },
  {
   "cell_type": "code",
   "execution_count": null,
   "id": "4b1b95ef",
   "metadata": {},
   "outputs": [],
   "source": [
    "# 탐지 결과 파일 저장\n",
    "origin_df[f'{model_name}_y_pred'] = total_result_df[f'{model_name}_y_pred']\n",
    "origin_df.to_csv(f\"{model_name}_result.csv\", index=False)\n",
    "origin_df"
   ]
  },
  {
   "cell_type": "code",
   "execution_count": null,
   "id": "f77eb88e",
   "metadata": {},
   "outputs": [],
   "source": []
  }
 ],
 "metadata": {
  "kernelspec": {
   "display_name": "Python 3 (ipykernel)",
   "language": "python",
   "name": "python3"
  },
  "language_info": {
   "codemirror_mode": {
    "name": "ipython",
    "version": 3
   },
   "file_extension": ".py",
   "mimetype": "text/x-python",
   "name": "python",
   "nbconvert_exporter": "python",
   "pygments_lexer": "ipython3",
   "version": "3.9.5"
  }
 },
 "nbformat": 4,
 "nbformat_minor": 5
}
