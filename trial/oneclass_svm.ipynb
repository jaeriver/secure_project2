{
  "nbformat": 4,
  "nbformat_minor": 0,
  "metadata": {
    "colab": {
      "name": "oneclass_svm.ipynb",
      "provenance": [],
      "collapsed_sections": [],
      "authorship_tag": "ABX9TyOYJQNqU47Rlv1PqhGV4OBY",
      "include_colab_link": true
    },
    "kernelspec": {
      "name": "python3",
      "display_name": "Python 3"
    },
    "language_info": {
      "name": "python"
    }
  },
  "cells": [
    {
      "cell_type": "markdown",
      "metadata": {
        "id": "view-in-github",
        "colab_type": "text"
      },
      "source": [
        "<a href=\"https://colab.research.google.com/github/manchann/secure_project2/blob/main/oneclass_svm.ipynb\" target=\"_parent\"><img src=\"https://colab.research.google.com/assets/colab-badge.svg\" alt=\"Open In Colab\"/></a>"
      ]
    },
    {
      "cell_type": "code",
      "metadata": {
        "id": "BCpd-zRodJ9m",
        "colab": {
          "base_uri": "https://localhost:8080/"
        },
        "outputId": "d6dbf5cd-6a44-43bb-ff73-e7918878b393"
      },
      "source": [
        "import pandas as pd\n",
        "from google.colab import drive\n",
        "drive.mount('/content/drive')\n",
        "dataset = pd.read_csv('/content/drive/MyDrive/BigData/04_hashed.csv')\n"
      ],
      "execution_count": 1,
      "outputs": [
        {
          "output_type": "stream",
          "name": "stdout",
          "text": [
            "Drive already mounted at /content/drive; to attempt to forcibly remount, call drive.mount(\"/content/drive\", force_remount=True).\n"
          ]
        }
      ]
    },
    {
      "cell_type": "code",
      "metadata": {
        "id": "v5wVdfbA5yvG"
      },
      "source": [
        "dataset_split = dataset"
      ],
      "execution_count": 2,
      "outputs": []
    },
    {
      "cell_type": "code",
      "metadata": {
        "id": "IhfBMRql5y88"
      },
      "source": [
        "# IPv4 전처리\n",
        "def transform_ip(ip): \n",
        "  groups = ip.split(\".\") \n",
        "  equalize_group_length = \"\".join( map( lambda group: group.zfill(3), groups )) \n",
        "  return equalize_group_length \n",
        "\n",
        "from sklearn.preprocessing import LabelEncoder\n",
        "\n",
        "# Feature 전처리\n",
        "def preprocess_df(df):\n",
        "  \n",
        "  # IPv4 전처리\n",
        "  df['src_ip'] = df.src_ip.apply(lambda ip : transform_ip(ip))\n",
        "  df['dst_ip'] = df.dst_ip.apply(lambda ip : transform_ip(ip))\n",
        "\n",
        "  # country 전처리\n",
        "  label_encoder = LabelEncoder()\n",
        "  df['src_country'] = label_encoder.fit_transform(df['src_country'])\n",
        "  df['dst_country'] = label_encoder.fit_transform(df['dst_country'])\n",
        "\n",
        "  return df"
      ],
      "execution_count": 3,
      "outputs": []
    },
    {
      "cell_type": "code",
      "metadata": {
        "id": "hH7t4FAn5z-e"
      },
      "source": [
        "dataset_ip = preprocess_df(dataset_split)"
      ],
      "execution_count": 4,
      "outputs": []
    },
    {
      "cell_type": "code",
      "metadata": {
        "id": "lTJvd8V351l_"
      },
      "source": [
        "import numpy as np\n",
        "arr = np.array(dataset_ip)\n",
        "dataset_ip = pd.DataFrame(arr,columns=dataset_ip.columns)\n"
      ],
      "execution_count": 5,
      "outputs": []
    },
    {
      "cell_type": "code",
      "metadata": {
        "colab": {
          "base_uri": "https://localhost:8080/",
          "height": 204
        },
        "id": "zIrLmjAR52tW",
        "outputId": "e5b562fc-c657-44eb-8f40-84508dcb662a"
      },
      "source": [
        "from sklearn.preprocessing import LabelEncoder\n",
        "job_encode = LabelEncoder()\n",
        "dataset_ip['src_country'] = job_encode.fit_transform(dataset_ip['src_country'])\n",
        "dataset_ip['dst_country'] = job_encode.fit_transform(dataset_ip['dst_country'])\n",
        "dataset_ip.tail()"
      ],
      "execution_count": 6,
      "outputs": [
        {
          "output_type": "execute_result",
          "data": {
            "text/html": [
              "<div>\n",
              "<style scoped>\n",
              "    .dataframe tbody tr th:only-of-type {\n",
              "        vertical-align: middle;\n",
              "    }\n",
              "\n",
              "    .dataframe tbody tr th {\n",
              "        vertical-align: top;\n",
              "    }\n",
              "\n",
              "    .dataframe thead th {\n",
              "        text-align: right;\n",
              "    }\n",
              "</style>\n",
              "<table border=\"1\" class=\"dataframe\">\n",
              "  <thead>\n",
              "    <tr style=\"text-align: right;\">\n",
              "      <th></th>\n",
              "      <th>Rdate</th>\n",
              "      <th>src_ip</th>\n",
              "      <th>dst_ip</th>\n",
              "      <th>Proto</th>\n",
              "      <th>src_port</th>\n",
              "      <th>dst_port</th>\n",
              "      <th>Action</th>\n",
              "      <th>src_country</th>\n",
              "      <th>dst_country</th>\n",
              "    </tr>\n",
              "  </thead>\n",
              "  <tbody>\n",
              "    <tr>\n",
              "      <th>5820305</th>\n",
              "      <td>2.02104e+13</td>\n",
              "      <td>012150252150</td>\n",
              "      <td>102116052100</td>\n",
              "      <td>6</td>\n",
              "      <td>64259</td>\n",
              "      <td>445</td>\n",
              "      <td>2</td>\n",
              "      <td>121</td>\n",
              "      <td>224</td>\n",
              "    </tr>\n",
              "    <tr>\n",
              "      <th>5820306</th>\n",
              "      <td>2.02104e+13</td>\n",
              "      <td>012150252150</td>\n",
              "      <td>167212157124</td>\n",
              "      <td>6</td>\n",
              "      <td>64261</td>\n",
              "      <td>445</td>\n",
              "      <td>2</td>\n",
              "      <td>121</td>\n",
              "      <td>46</td>\n",
              "    </tr>\n",
              "    <tr>\n",
              "      <th>5820307</th>\n",
              "      <td>2.02104e+13</td>\n",
              "      <td>145217002097</td>\n",
              "      <td>072192214054</td>\n",
              "      <td>6</td>\n",
              "      <td>25646</td>\n",
              "      <td>23</td>\n",
              "      <td>2</td>\n",
              "      <td>47</td>\n",
              "      <td>116</td>\n",
              "    </tr>\n",
              "    <tr>\n",
              "      <th>5820308</th>\n",
              "      <td>2.02104e+13</td>\n",
              "      <td>154058159164</td>\n",
              "      <td>185151199060</td>\n",
              "      <td>6</td>\n",
              "      <td>54633</td>\n",
              "      <td>445</td>\n",
              "      <td>2</td>\n",
              "      <td>121</td>\n",
              "      <td>159</td>\n",
              "    </tr>\n",
              "    <tr>\n",
              "      <th>5820309</th>\n",
              "      <td>2.02104e+13</td>\n",
              "      <td>154058159020</td>\n",
              "      <td>180130243165</td>\n",
              "      <td>6</td>\n",
              "      <td>53644</td>\n",
              "      <td>445</td>\n",
              "      <td>2</td>\n",
              "      <td>121</td>\n",
              "      <td>47</td>\n",
              "    </tr>\n",
              "  </tbody>\n",
              "</table>\n",
              "</div>"
            ],
            "text/plain": [
              "               Rdate        src_ip  ... src_country dst_country\n",
              "5820305  2.02104e+13  012150252150  ...         121         224\n",
              "5820306  2.02104e+13  012150252150  ...         121          46\n",
              "5820307  2.02104e+13  145217002097  ...          47         116\n",
              "5820308  2.02104e+13  154058159164  ...         121         159\n",
              "5820309  2.02104e+13  154058159020  ...         121          47\n",
              "\n",
              "[5 rows x 9 columns]"
            ]
          },
          "metadata": {},
          "execution_count": 6
        }
      ]
    },
    {
      "cell_type": "code",
      "metadata": {
        "id": "2WIGywlB53ea"
      },
      "source": [
        "from sklearn.svm import OneClassSVM\n",
        "X = dataset_ip\n",
        "model = OneClassSVM(gamma='auto').fit(X)\n",
        "anomaly = model.predict(X)\n",
        "\n",
        "score = model.score_samples(X)\n",
        "\n"
      ],
      "execution_count": null,
      "outputs": []
    },
    {
      "cell_type": "code",
      "metadata": {
        "id": "qiQ4NuZp6g2J"
      },
      "source": [
        "print(anomaly, score)"
      ],
      "execution_count": null,
      "outputs": []
    },
    {
      "cell_type": "code",
      "metadata": {
        "id": "OImHinZZ7TtC"
      },
      "source": [
        ""
      ],
      "execution_count": null,
      "outputs": []
    }
  ]
}